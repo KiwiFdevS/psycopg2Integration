{
 "cells": [
  {
   "cell_type": "markdown",
   "id": "88a20b59",
   "metadata": {},
   "source": [
    "#Existem duas bibiotecas base para a programação em pyton, uma delas é comunicação com o servidor;\n",
    "\n",
    "#Tentão existem dentro da biblioteca mais 4 componetes que ela trabalha;\n",
    "    #compute sevice 4\n",
    "    #virtaul network 3\n",
    "    #Indentify Service 2\n",
    "    #Markerplace service 1\n",
    "    \n",
    "    \"we iniciater services cllients in the class inicialization\"\n",
    "            # Instantiate clients\n",
    "        self._compute_client = oci.core.ComputeClient(self._config)\n",
    "        self._identity_client = oci.identity.IdentityClient(self._config)\n",
    "        self._virtual_network_client = oci.core.VirtualNetworkClient(self._config)\n",
    "        self._marketplace_client = oci.marketplace.MarketplaceClient(self._config)\n",
    "       \n",
    "     \n",
    "     Oci ta impossível eu fui pra postgre\n",
    "     \n",
    "     https://blogs.oracle.com/linux/post/getting-started-with-the-oracle-cloud-infrastructure-python-sdk"
   ]
  },
  {
   "cell_type": "code",
   "execution_count": 1,
   "id": "9b9bcca1",
   "metadata": {},
   "outputs": [],
   "source": [
    "import oci\n"
   ]
  },
  {
   "cell_type": "code",
   "execution_count": 5,
   "id": "127ba2fa",
   "metadata": {
    "scrolled": false
   },
   "outputs": [],
   "source": [
    "import psycopg2 \n"
   ]
  },
  {
   "cell_type": "code",
   "execution_count": 7,
   "id": "8120104b",
   "metadata": {},
   "outputs": [
    {
     "ename": "SyntaxError",
     "evalue": "invalid syntax (288463208.py, line 1)",
     "output_type": "error",
     "traceback": [
      "\u001b[1;36m  Cell \u001b[1;32mIn[7], line 1\u001b[1;36m\u001b[0m\n\u001b[1;33m    CREATE DATABASE\u001b[0m\n\u001b[1;37m           ^\u001b[0m\n\u001b[1;31mSyntaxError\u001b[0m\u001b[1;31m:\u001b[0m invalid syntax\n"
     ]
    }
   ],
   "source": [
    "# Falta criar o banco de dados\n",
    "CREATE DATABASE mewnist_tree;\n",
    "\n"
   ]
  },
  {
   "cell_type": "code",
   "execution_count": 8,
   "id": "4b8a9f37",
   "metadata": {},
   "outputs": [
    {
     "ename": "SyntaxError",
     "evalue": "invalid syntax. Perhaps you forgot a comma? (288816761.py, line 1)",
     "output_type": "error",
     "traceback": [
      "\u001b[1;36m  Cell \u001b[1;32mIn[8], line 1\u001b[1;36m\u001b[0m\n\u001b[1;33m    conn = psycopag2.connecet(database=\"MewnistDB\", host=\"db_host\" user=\"Mario\", paassword=\"9LzPr?..\", port=\"1234\")\u001b[0m\n\u001b[1;37m                                                         ^\u001b[0m\n\u001b[1;31mSyntaxError\u001b[0m\u001b[1;31m:\u001b[0m invalid syntax. Perhaps you forgot a comma?\n"
     ]
    }
   ],
   "source": [
    "#método de conexão \n",
    "conn = psycopag2.connecet(database=\"MewnistDB\", host=\"db_host\" user=\"Mario\", paassword=\"9LzPr?..\", port=\"1234\")"
   ]
  },
  {
   "cell_type": "code",
   "execution_count": null,
   "id": "30e143b6",
   "metadata": {},
   "outputs": [],
   "source": []
  }
 ],
 "metadata": {
  "kernelspec": {
   "display_name": "Python 3 (ipykernel)",
   "language": "python",
   "name": "python3"
  },
  "language_info": {
   "codemirror_mode": {
    "name": "ipython",
    "version": 3
   },
   "file_extension": ".py",
   "mimetype": "text/x-python",
   "name": "python",
   "nbconvert_exporter": "python",
   "pygments_lexer": "ipython3",
   "version": "3.11.3"
  }
 },
 "nbformat": 4,
 "nbformat_minor": 5
}
