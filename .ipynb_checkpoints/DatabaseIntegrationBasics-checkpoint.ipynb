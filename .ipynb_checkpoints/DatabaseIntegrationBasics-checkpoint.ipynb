{
 "cells": [
  {
   "cell_type": "markdown",
   "id": "88a20b59",
   "metadata": {},
   "source": [
    "Jupyter ver: \n",
    "Python ver:\n",
    "psycopg ver: 2,9,6\n",
    "       \n",
    "instalei o psycopg pelo pip \n",
    "     \n",
    "     \n",
    "postgree documentation\n",
    "https://www.postgresql.org/docs/\n",
    "psycopg documentation\n",
    "https://www.psycopg.org/docs/usage.html\n",
    "\n",
    "  \n",
    "     \n",
    "     \n",
    "     \n",
    "     Sites de erros\n",
    "    InFailedSqlTransaction - https://kb.objectrocket.com/postgresql/python-error-handling-with-the-psycopg2-postgresql-adapter-645\n",
    "    "
   ]
  },
  {
   "cell_type": "code",
   "execution_count": 2,
   "id": "127ba2fa",
   "metadata": {
    "scrolled": false
   },
   "outputs": [],
   "source": [
    "import psycopg2 \n"
   ]
  },
  {
   "cell_type": "code",
   "execution_count": 3,
   "id": "4b8a9f37",
   "metadata": {},
   "outputs": [],
   "source": [
    "#método de conexão ao banco de dados. \n",
    "#O servidor foi criado com o pgAdmin\n",
    "    #a versão mais recente do pgadim está com problemas então se tiver algum erro diminua para a versão 7.3\n",
    "    #dentro dedssa conexão o servidor e a porta vai ser o servidor da sua máquina\n",
    "    #e a conxão que você vai fazer e dentro de uma databasse\n",
    "conn = psycopg2.connect(database=\"\",\n",
    "                        host=\"\",\n",
    "                        user=\"\",\n",
    "                        password=\"\",\n",
    "                        port=\"\")"
   ]
  },
  {
   "cell_type": "code",
   "execution_count": 4,
   "id": "8120104b",
   "metadata": {},
   "outputs": [],
   "source": [
    "# Falta criar o banco de dados - Ja criei\n",
    "#Open a cursor to perform database operations\n",
    "cur = conn.cursor()\n"
   ]
  },
  {
   "cell_type": "code",
   "execution_count": 14,
   "id": "a76b4a49",
   "metadata": {},
   "outputs": [],
   "source": [
    "#caso tenha algum problema para executar uma querie, imagino que por medidas de segurança, o postgree bloqueia todas as futura interações até que se deja um rollback\n",
    "#Quando uma operação falha é nescessãrio dar um rollback\n",
    "conn.rollback()"
   ]
  },
  {
   "cell_type": "code",
   "execution_count": 15,
   "id": "884ac4bc",
   "metadata": {},
   "outputs": [],
   "source": [
    "cur.execute(\"SELECT FROM pessoas;\")"
   ]
  },
  {
   "cell_type": "code",
   "execution_count": 16,
   "id": "30e143b6",
   "metadata": {},
   "outputs": [
    {
     "ename": "SyntaxError",
     "evalue": "syntax error at or near \"(\"\nLINE 1: ALTER TABLE pessoas(id serial PRIMARY KEY, nome varchar, son...\n                           ^\n",
     "output_type": "error",
     "traceback": [
      "\u001b[1;31m---------------------------------------------------------------------------\u001b[0m",
      "\u001b[1;31mSyntaxError\u001b[0m                               Traceback (most recent call last)",
      "Cell \u001b[1;32mIn[16], line 3\u001b[0m\n\u001b[0;32m      1\u001b[0m \u001b[38;5;66;03m#executar comando com o cursor \u001b[39;00m\n\u001b[0;32m      2\u001b[0m \u001b[38;5;66;03m#cur.execute(Command(especifications))\u001b[39;00m\n\u001b[1;32m----> 3\u001b[0m cur\u001b[38;5;241m.\u001b[39mexecute(\u001b[38;5;124m\"\u001b[39m\u001b[38;5;124mALTER TABLE pessoas(id serial PRIMARY KEY, nome varchar, sonho varchar);\u001b[39m\u001b[38;5;124m\"\u001b[39m)\n",
      "\u001b[1;31mSyntaxError\u001b[0m: syntax error at or near \"(\"\nLINE 1: ALTER TABLE pessoas(id serial PRIMARY KEY, nome varchar, son...\n                           ^\n"
     ]
    }
   ],
   "source": [
    "#executar comando com o cursor \n",
    "#Nessa versão criei essa tabela com o char e não o var char. O que me causou problemas já que eu não especifiquei o tamanho, na dúvida coloque varchar que é infinito pelo que eu li\n",
    "#cur.execute(Command(especifications))\n",
    "cur.execute(\"CREATE TABLE pessoas(id serial PRIMARY KEY, nome varchar, sonho varchar);\")\n",
    "    #teste dois om o código da documentação\n",
    "#cur.execute(\"CREATE TABLE test (id serial PRIMARY KEY, num integer, data varchar);\")\n",
    "\n"
   ]
  },
  {
   "cell_type": "code",
   "execution_count": null,
   "id": "5a872028",
   "metadata": {},
   "outputs": [],
   "source": [
    "#https://www.postgresqltutorial.com/postgresql-tutorial/postgresql-char-varchar-text/"
   ]
  },
  {
   "cell_type": "code",
   "execution_count": 24,
   "id": "06f37ba4",
   "metadata": {},
   "outputs": [],
   "source": [
    "#para salvar as configurações é nescessário dar commit\n",
    "conn.commit()"
   ]
  },
  {
   "cell_type": "code",
   "execution_count": null,
   "id": "bc2a6d0b",
   "metadata": {},
   "outputs": [],
   "source": [
    "#e para fechar ou o cursor, ou a conexão;\n",
    "    #cur.close()\n",
    "    #conn.close"
   ]
  },
  {
   "cell_type": "code",
   "execution_count": null,
   "id": "34cc8b9c",
   "metadata": {},
   "outputs": [],
   "source": [
    "conn.close"
   ]
  },
  {
   "cell_type": "code",
   "execution_count": 11,
   "id": "c6ff12eb",
   "metadata": {},
   "outputs": [
    {
     "ename": "StringDataRightTruncation",
     "evalue": "value too long for type character(1)\n",
     "output_type": "error",
     "traceback": [
      "\u001b[1;31m---------------------------------------------------------------------------\u001b[0m",
      "\u001b[1;31mStringDataRightTruncation\u001b[0m                 Traceback (most recent call last)",
      "Cell \u001b[1;32mIn[11], line 1\u001b[0m\n\u001b[1;32m----> 1\u001b[0m cur\u001b[38;5;241m.\u001b[39mexecute(\u001b[38;5;124m\"\u001b[39m\u001b[38;5;124mINSERT INTO pessoas (nome, sonho) VALUES (\u001b[39m\u001b[38;5;124m'\u001b[39m\u001b[38;5;124mKauan\u001b[39m\u001b[38;5;124m'\u001b[39m\u001b[38;5;124m, \u001b[39m\u001b[38;5;124m'\u001b[39m\u001b[38;5;124mMedico\u001b[39m\u001b[38;5;124m'\u001b[39m\u001b[38;5;124m)\u001b[39m\u001b[38;5;124m\"\u001b[39m)\n",
      "\u001b[1;31mStringDataRightTruncation\u001b[0m: value too long for type character(1)\n"
     ]
    }
   ],
   "source": [
    "cur.execute(\"INSERT INTO pessoas (nome, sonho) VALUES ('Kauan', 'Medico')\")\n",
    "#isso é um teste onde vou colocar diretamente valores dentro da tabela, se for num ambiente de programação mais dinâmico, será nescessário generalizar com os \"%\""
   ]
  },
  {
   "cell_type": "code",
   "execution_count": null,
   "id": "917be256",
   "metadata": {},
   "outputs": [],
   "source": []
  }
 ],
 "metadata": {
  "kernelspec": {
   "display_name": "Python 3 (ipykernel)",
   "language": "python",
   "name": "python3"
  },
  "language_info": {
   "codemirror_mode": {
    "name": "ipython",
    "version": 3
   },
   "file_extension": ".py",
   "mimetype": "text/x-python",
   "name": "python",
   "nbconvert_exporter": "python",
   "pygments_lexer": "ipython3",
   "version": "3.11.3"
  }
 },
 "nbformat": 4,
 "nbformat_minor": 5
}
